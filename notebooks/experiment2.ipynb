{
 "cells": [
  {
   "cell_type": "code",
   "execution_count": 2,
   "metadata": {},
   "outputs": [],
   "source": [
    "import torch\n",
    "from torch import nn\n",
    "import torch.optim as optim\n",
    "\n",
    "import torchtext\n",
    "import pandas as pd\n",
    "import numpy as np\n",
    "import sklearn.metrics\n",
    "from collections import defaultdict\n",
    "from tqdm import tqdm\n",
    "import matplotlib.pyplot as plt\n",
    "\n",
    "from models import MLP1Base, MLP2Base, MetaMLPModel\n",
    "from torchmeta.modules import MetaLinear\n",
    "import scipy.stats"
   ]
  },
  {
   "cell_type": "code",
   "execution_count": 3,
   "metadata": {},
   "outputs": [],
   "source": [
    "df=pd.read_csv('./parallelograms-revisited/experiment2_data_relational_similarity/mean_relsim_ratings.csv')"
   ]
  },
  {
   "cell_type": "code",
   "execution_count": 4,
   "metadata": {},
   "outputs": [],
   "source": [
    "y = np.array(df['mean_rating'])"
   ]
  },
  {
   "cell_type": "code",
   "execution_count": 5,
   "metadata": {},
   "outputs": [
    {
     "data": {
      "text/html": [
       "<div>\n",
       "<style scoped>\n",
       "    .dataframe tbody tr th:only-of-type {\n",
       "        vertical-align: middle;\n",
       "    }\n",
       "\n",
       "    .dataframe tbody tr th {\n",
       "        vertical-align: top;\n",
       "    }\n",
       "\n",
       "    .dataframe thead th {\n",
       "        text-align: right;\n",
       "    }\n",
       "</style>\n",
       "<table border=\"1\" class=\"dataframe\">\n",
       "  <thead>\n",
       "    <tr style=\"text-align: right;\">\n",
       "      <th></th>\n",
       "      <th>relation1</th>\n",
       "      <th>relation2</th>\n",
       "      <th>comparison_type</th>\n",
       "      <th>pair1_word1</th>\n",
       "      <th>pair1_word2</th>\n",
       "      <th>pair2_word1</th>\n",
       "      <th>pair2_word2</th>\n",
       "      <th>mean_rating</th>\n",
       "      <th>num_ratings</th>\n",
       "    </tr>\n",
       "  </thead>\n",
       "  <tbody>\n",
       "    <tr>\n",
       "      <th>0</th>\n",
       "      <td>3a</td>\n",
       "      <td>3a</td>\n",
       "      <td>within-subtype</td>\n",
       "      <td>candy</td>\n",
       "      <td>sweets</td>\n",
       "      <td>sofa</td>\n",
       "      <td>chair</td>\n",
       "      <td>3.750000</td>\n",
       "      <td>12</td>\n",
       "    </tr>\n",
       "    <tr>\n",
       "      <th>1</th>\n",
       "      <td>1a</td>\n",
       "      <td>1a</td>\n",
       "      <td>within-subtype</td>\n",
       "      <td>dollar</td>\n",
       "      <td>currency</td>\n",
       "      <td>wheat</td>\n",
       "      <td>bread</td>\n",
       "      <td>4.727273</td>\n",
       "      <td>11</td>\n",
       "    </tr>\n",
       "    <tr>\n",
       "      <th>2</th>\n",
       "      <td>9a</td>\n",
       "      <td>9a</td>\n",
       "      <td>within-subtype</td>\n",
       "      <td>store</td>\n",
       "      <td>shopper</td>\n",
       "      <td>supermarket</td>\n",
       "      <td>groceries</td>\n",
       "      <td>5.583333</td>\n",
       "      <td>12</td>\n",
       "    </tr>\n",
       "    <tr>\n",
       "      <th>3</th>\n",
       "      <td>6a</td>\n",
       "      <td>6a</td>\n",
       "      <td>within-subtype</td>\n",
       "      <td>classic</td>\n",
       "      <td>trendy</td>\n",
       "      <td>integrity</td>\n",
       "      <td>dishonest</td>\n",
       "      <td>3.700000</td>\n",
       "      <td>10</td>\n",
       "    </tr>\n",
       "    <tr>\n",
       "      <th>4</th>\n",
       "      <td>10a</td>\n",
       "      <td>10a</td>\n",
       "      <td>within-subtype</td>\n",
       "      <td>flashing</td>\n",
       "      <td>caution</td>\n",
       "      <td>green</td>\n",
       "      <td>go</td>\n",
       "      <td>6.583333</td>\n",
       "      <td>12</td>\n",
       "    </tr>\n",
       "    <tr>\n",
       "      <th>...</th>\n",
       "      <td>...</td>\n",
       "      <td>...</td>\n",
       "      <td>...</td>\n",
       "      <td>...</td>\n",
       "      <td>...</td>\n",
       "      <td>...</td>\n",
       "      <td>...</td>\n",
       "      <td>...</td>\n",
       "      <td>...</td>\n",
       "    </tr>\n",
       "    <tr>\n",
       "      <th>6189</th>\n",
       "      <td>8b</td>\n",
       "      <td>8a</td>\n",
       "      <td>between-subtype</td>\n",
       "      <td>embarrassed</td>\n",
       "      <td>blush</td>\n",
       "      <td>explosion</td>\n",
       "      <td>damage</td>\n",
       "      <td>5.200000</td>\n",
       "      <td>10</td>\n",
       "    </tr>\n",
       "    <tr>\n",
       "      <th>6190</th>\n",
       "      <td>1a</td>\n",
       "      <td>2a</td>\n",
       "      <td>between-type</td>\n",
       "      <td>animal</td>\n",
       "      <td>carabao</td>\n",
       "      <td>dog</td>\n",
       "      <td>tail</td>\n",
       "      <td>3.090909</td>\n",
       "      <td>11</td>\n",
       "    </tr>\n",
       "    <tr>\n",
       "      <th>6191</th>\n",
       "      <td>5a</td>\n",
       "      <td>7c</td>\n",
       "      <td>between-type</td>\n",
       "      <td>intellectual</td>\n",
       "      <td>professor</td>\n",
       "      <td>police</td>\n",
       "      <td>gun</td>\n",
       "      <td>3.200000</td>\n",
       "      <td>10</td>\n",
       "    </tr>\n",
       "    <tr>\n",
       "      <th>6192</th>\n",
       "      <td>8a</td>\n",
       "      <td>8a</td>\n",
       "      <td>within-subtype</td>\n",
       "      <td>education</td>\n",
       "      <td>expertise</td>\n",
       "      <td>showering</td>\n",
       "      <td>cleanliness</td>\n",
       "      <td>4.800000</td>\n",
       "      <td>10</td>\n",
       "    </tr>\n",
       "    <tr>\n",
       "      <th>6193</th>\n",
       "      <td>10a</td>\n",
       "      <td>10a</td>\n",
       "      <td>within-subtype</td>\n",
       "      <td>cross</td>\n",
       "      <td>faith</td>\n",
       "      <td>wrinkle</td>\n",
       "      <td>age</td>\n",
       "      <td>4.600000</td>\n",
       "      <td>10</td>\n",
       "    </tr>\n",
       "  </tbody>\n",
       "</table>\n",
       "<p>6194 rows × 9 columns</p>\n",
       "</div>"
      ],
      "text/plain": [
       "     relation1 relation2  comparison_type   pair1_word1 pair1_word2  \\\n",
       "0           3a        3a   within-subtype         candy      sweets   \n",
       "1           1a        1a   within-subtype        dollar    currency   \n",
       "2           9a        9a   within-subtype         store     shopper   \n",
       "3           6a        6a   within-subtype       classic      trendy   \n",
       "4          10a       10a   within-subtype      flashing     caution   \n",
       "...        ...       ...              ...           ...         ...   \n",
       "6189        8b        8a  between-subtype   embarrassed       blush   \n",
       "6190        1a        2a     between-type        animal     carabao   \n",
       "6191        5a        7c     between-type  intellectual   professor   \n",
       "6192        8a        8a   within-subtype     education   expertise   \n",
       "6193       10a       10a   within-subtype         cross       faith   \n",
       "\n",
       "      pair2_word1  pair2_word2  mean_rating  num_ratings  \n",
       "0            sofa        chair     3.750000           12  \n",
       "1           wheat        bread     4.727273           11  \n",
       "2     supermarket    groceries     5.583333           12  \n",
       "3       integrity    dishonest     3.700000           10  \n",
       "4           green           go     6.583333           12  \n",
       "...           ...          ...          ...          ...  \n",
       "6189    explosion       damage     5.200000           10  \n",
       "6190          dog         tail     3.090909           11  \n",
       "6191       police          gun     3.200000           10  \n",
       "6192    showering  cleanliness     4.800000           10  \n",
       "6193      wrinkle          age     4.600000           10  \n",
       "\n",
       "[6194 rows x 9 columns]"
      ]
     },
     "execution_count": 5,
     "metadata": {},
     "output_type": "execute_result"
    }
   ],
   "source": [
    "df"
   ]
  },
  {
   "cell_type": "code",
   "execution_count": 6,
   "metadata": {},
   "outputs": [],
   "source": [
    "vocab = torchtext.vocab.GloVe(name='840B', dim=300)"
   ]
  },
  {
   "cell_type": "code",
   "execution_count": 7,
   "metadata": {},
   "outputs": [],
   "source": [
    "# meta_linear_params = torch.load('/n/fs/nlp-myhu/research-code/pytorch-maml/output/jan15_analogy/2021-01-15_091502linear/model.th', map_location=torch.device('cpu'))\n",
    "# meta_mlp1_params = torch.load('/n/fs/nlp-myhu/research-code/pytorch-maml/output/jan15_analogy/2021-01-15_091502mlp1/model.th', map_location=torch.device('cpu'))\n",
    "# meta_mlp2_params = torch.load('/n/fs/nlp-myhu/research-code/pytorch-maml/output/jan15_analogy/2021-01-15_091502mlp2/model.th', map_location=torch.device('cpu'))\n",
    "\n",
    "meta_linear_params = torch.load('/n/fs/nlp-myhu/research-code/pytorch-maml/output/jan20_analogy/2021-01-20_093635linear/model.th', map_location=torch.device('cpu'))\n",
    "meta_mlp1_params = torch.load('/n/fs/nlp-myhu/research-code/pytorch-maml/output/jan20_analogy/2021-01-20_093635mlp1/model.th', map_location=torch.device('cpu'))\n",
    "meta_mlp2_params = torch.load('/n/fs/nlp-myhu/research-code/pytorch-maml/output/jan20_analogy/2021-01-20_093635mlp2/model.th', map_location=torch.device('cpu'))"
   ]
  },
  {
   "cell_type": "code",
   "execution_count": 8,
   "metadata": {},
   "outputs": [],
   "source": [
    "meta_linear = nn.Linear(in_features=300, out_features=300)\n",
    "meta_mlp1 = MLP1Base(input_dim=300, hidden_dim=500, output_dim=300)\n",
    "meta_mlp2 = MLP2Base(input_dim=300, hidden_dim=500, output_dim=300)"
   ]
  },
  {
   "cell_type": "code",
   "execution_count": 9,
   "metadata": {},
   "outputs": [],
   "source": [
    "meta_linear.weight.data = meta_linear_params['weight']\n",
    "meta_linear.bias.data = meta_linear_params['bias']\n",
    "\n",
    "meta_mlp1.l1.weight.data = meta_mlp1_params['features.layer1.linear.weight']\n",
    "meta_mlp1.l1.bias.data = meta_mlp1_params['features.layer1.linear.bias']\n",
    "meta_mlp1.l2.weight.data = meta_mlp1_params['classifier.weight']\n",
    "meta_mlp1.l2.bias.data = meta_mlp1_params['classifier.bias']\n",
    "\n",
    "meta_mlp2.l1.weight.data = meta_mlp2_params['features.layer1.linear.weight']\n",
    "meta_mlp2.l1.bias.data = meta_mlp2_params['features.layer1.linear.bias']\n",
    "meta_mlp2.l2.weight.data = meta_mlp2_params['features.layer2.linear.weight']\n",
    "meta_mlp2.l2.bias.data = meta_mlp2_params['features.layer2.linear.bias']\n",
    "meta_mlp2.l3.weight.data = meta_mlp2_params['classifier.weight']\n",
    "meta_mlp2.l3.bias.data = meta_mlp2_params['classifier.bias']"
   ]
  },
  {
   "cell_type": "code",
   "execution_count": 10,
   "metadata": {},
   "outputs": [],
   "source": [
    "def compute_alpha(df, vocab, get_loss):\n",
    "    prediction_dict = []\n",
    "    \n",
    "    for idx, row in tqdm(df.iterrows()):\n",
    "        w1, w2, w3, w4 = row['pair1_word1'], row['pair1_word2'], row['pair2_word1'], row['pair2_word2']\n",
    "\n",
    "        if w1 not in vocab.stoi or w2 not in vocab.stoi or w3 not in vocab.stoi or w4 not in vocab.stoi:\n",
    "            continue\n",
    "            \n",
    "        category_id = int(row['relation1'][:-1])\n",
    "        human_score = (row['mean_rating'] - 1) / 6 + 1e-20\n",
    "            \n",
    "        a = vocab[w1]\n",
    "        b = vocab[w2]\n",
    "        c = vocab[w3]\n",
    "        d = vocab[w4]\n",
    "        \n",
    "        forward = get_loss(a, b, c, d)\n",
    "\n",
    "        prediction_dict.append(-np.log(human_score)/forward)\n",
    "        \n",
    "    return prediction_dict"
   ]
  },
  {
   "cell_type": "code",
   "execution_count": 11,
   "metadata": {},
   "outputs": [],
   "source": [
    "def get_categorized_relsim_scores(df, vocab, get_loss, alpha=10):\n",
    "    prediction_dict = defaultdict(lambda: [])\n",
    "    word_dict = defaultdict(lambda: [])\n",
    "    \n",
    "    for idx, row in tqdm(df.iterrows()):\n",
    "        w1, w2, w3, w4 = row['pair1_word1'], row['pair1_word2'], row['pair2_word1'], row['pair2_word2']\n",
    "\n",
    "        if w1 not in vocab.stoi or w2 not in vocab.stoi or w3 not in vocab.stoi or w4 not in vocab.stoi:\n",
    "            continue\n",
    "            \n",
    "        category_id = int(row['relation1'][:-1])\n",
    "        human_score = row['mean_rating']\n",
    "        word_dict[category_id].append(human_score)\n",
    "            \n",
    "        a = vocab[w1]\n",
    "        b = vocab[w2]\n",
    "        c = vocab[w3]\n",
    "        d = vocab[w4]\n",
    "        \n",
    "        forward = get_loss(a, b, c, d)\n",
    "        backward = get_loss(c, d, a, b)\n",
    "\n",
    "        prediction_dict[category_id].append(np.exp(-alpha * forward))\n",
    "        \n",
    "    return prediction_dict, word_dict"
   ]
  },
  {
   "cell_type": "code",
   "execution_count": 12,
   "metadata": {},
   "outputs": [],
   "source": [
    "def get_categorized_relsim_scores_cos(df, vocab, get_loss):\n",
    "    prediction_dict = defaultdict(lambda: [])\n",
    "    word_dict = defaultdict(lambda: [])\n",
    "    \n",
    "    for idx, row in tqdm(df.iterrows()):\n",
    "        w1, w2, w3, w4 = row['pair1_word1'], row['pair1_word2'], row['pair2_word1'], row['pair2_word2']\n",
    "\n",
    "        if w1 not in vocab.stoi or w2 not in vocab.stoi or w3 not in vocab.stoi or w4 not in vocab.stoi:\n",
    "            continue\n",
    "            \n",
    "        category_id = int(row['relation1'][:-1])\n",
    "        human_score = row['mean_rating']\n",
    "        word_dict[category_id].append(human_score)\n",
    "            \n",
    "        a = vocab[w1]\n",
    "        b = vocab[w2]\n",
    "        c = vocab[w3]\n",
    "        d = vocab[w4]\n",
    "        \n",
    "        loss = get_loss(a, b, c, d)[0][0]\n",
    "        # print(loss)\n",
    "\n",
    "        prediction_dict[category_id].append(loss)\n",
    "        \n",
    "    return prediction_dict, word_dict"
   ]
  },
  {
   "cell_type": "code",
   "execution_count": 13,
   "metadata": {},
   "outputs": [],
   "source": [
    "def get_categorized_relsim_scores_eu(df, vocab, get_loss):\n",
    "    prediction_dict = defaultdict(lambda: [])\n",
    "    word_dict = defaultdict(lambda: [])\n",
    "    \n",
    "    for idx, row in tqdm(df.iterrows()):\n",
    "        w1, w2, w3, w4 = row['pair1_word1'], row['pair1_word2'], row['pair2_word1'], row['pair2_word2']\n",
    "\n",
    "        if w1 not in vocab.stoi or w2 not in vocab.stoi or w3 not in vocab.stoi or w4 not in vocab.stoi:\n",
    "            continue\n",
    "            \n",
    "        category_id = int(row['relation1'][:-1])\n",
    "        human_score = row['mean_rating']\n",
    "        word_dict[category_id].append(human_score)\n",
    "            \n",
    "        a = vocab[w1]\n",
    "        b = vocab[w2]\n",
    "        c = vocab[w3]\n",
    "        d = vocab[w4]\n",
    "        \n",
    "        loss = get_loss(a, b, c, d)\n",
    "        # print(loss)\n",
    "\n",
    "        prediction_dict[category_id].append(loss)\n",
    "        \n",
    "    return prediction_dict, word_dict"
   ]
  },
  {
   "cell_type": "code",
   "execution_count": 14,
   "metadata": {},
   "outputs": [],
   "source": [
    "mlopt = optim.SGD(meta_linear.parameters(), lr=0.1)\n",
    "mm1opt = optim.SGD(meta_mlp1.parameters(), lr=0.1)\n",
    "mm2opt = optim.SGD(meta_mlp2.parameters(), lr=0.1)\n",
    "\n",
    "mlcache = meta_linear.state_dict()\n",
    "mm1cache = meta_mlp1.state_dict()\n",
    "mm2cache = meta_mlp2.state_dict()\n",
    "\n",
    "criterion = nn.MSELoss()\n",
    "\n",
    "def get_ml_loss(a, b, c, d):\n",
    "    meta_linear.load_state_dict(mlcache)\n",
    "    mlopt.zero_grad()\n",
    "    a_hat = meta_linear(a)\n",
    "    loss = criterion(a_hat, b)\n",
    "    loss.backward()\n",
    "    mlopt.step()\n",
    "    c_hat = meta_linear(c)\n",
    "    loss = criterion(c_hat, d)\n",
    "    return loss.detach().numpy()\n",
    "\n",
    "def get_m1_loss(a, b, c, d):\n",
    "    meta_mlp1.load_state_dict(mm1cache)\n",
    "    mm1opt.zero_grad()\n",
    "    a_hat = meta_mlp1(a)\n",
    "    loss = criterion(a_hat, b)\n",
    "    loss.backward()\n",
    "    mm1opt.step()\n",
    "    c_hat = meta_mlp1(c)\n",
    "    loss = criterion(c_hat, d)\n",
    "    return loss.detach().numpy()\n",
    "\n",
    "def get_m2_loss(a, b, c, d):\n",
    "    meta_mlp2.load_state_dict(mm2cache)\n",
    "    mm2opt.zero_grad()\n",
    "    a_hat = meta_mlp2(a)\n",
    "    loss = criterion(a_hat, b)\n",
    "    loss.backward()\n",
    "    mm2opt.step()\n",
    "    c_hat = meta_mlp2(c)\n",
    "    loss = criterion(c_hat, d)\n",
    "    return loss.detach().numpy()\n",
    "\n",
    "def cos(a, b, c, d):\n",
    "    return sklearn.metrics.pairwise.cosine_similarity((a-b).reshape(1, -1), c-d.reshape(1, -1))\n",
    "\n",
    "def euclid(a, b, c, d):\n",
    "    r1 = a-b\n",
    "    r2 = c-d\n",
    "    return 1-np.linalg.norm(r1-r2)"
   ]
  },
  {
   "cell_type": "code",
   "execution_count": null,
   "metadata": {},
   "outputs": [],
   "source": [
    "scipy.stats.ttest_1samp(x_mlp2, 0)"
   ]
  },
  {
   "cell_type": "code",
   "execution_count": null,
   "metadata": {},
   "outputs": [],
   "source": [
    "plt.hist(x_mlp2)"
   ]
  },
  {
   "cell_type": "code",
   "execution_count": null,
   "metadata": {},
   "outputs": [],
   "source": [
    "for key, val in m2_pred_dict.items():\n",
    "    print(key, scipy.stats.ttest_1samp(val, 0))"
   ]
  },
  {
   "cell_type": "code",
   "execution_count": 39,
   "metadata": {},
   "outputs": [
    {
     "name": "stderr",
     "output_type": "stream",
     "text": [
      "6194it [00:40, 152.79it/s]\n"
     ]
    }
   ],
   "source": [
    "m2_pred_dict, m2_word_dict = get_categorized_relsim_scores(df, vocab, get_m2_loss, alpha=1)"
   ]
  },
  {
   "cell_type": "code",
   "execution_count": 15,
   "metadata": {},
   "outputs": [
    {
     "name": "stderr",
     "output_type": "stream",
     "text": [
      "6194it [00:24, 251.18it/s]\n"
     ]
    },
    {
     "data": {
      "text/plain": [
       "7.360320991824765"
      ]
     },
     "execution_count": 15,
     "metadata": {},
     "output_type": "execute_result"
    }
   ],
   "source": [
    "alphas = compute_alpha(df, vocab, get_m2_loss)\n",
    "np.mean(alphas)"
   ]
  },
  {
   "cell_type": "code",
   "execution_count": null,
   "metadata": {},
   "outputs": [],
   "source": [
    "plt.hist(alphas)"
   ]
  },
  {
   "cell_type": "code",
   "execution_count": 17,
   "metadata": {},
   "outputs": [
    {
     "name": "stderr",
     "output_type": "stream",
     "text": [
      "6194it [00:03, 1993.93it/s]\n"
     ]
    }
   ],
   "source": [
    "cos_pred, word_dict = get_categorized_relsim_scores_cos(df, vocab, cos)"
   ]
  },
  {
   "cell_type": "code",
   "execution_count": 18,
   "metadata": {},
   "outputs": [
    {
     "name": "stderr",
     "output_type": "stream",
     "text": [
      "6194it [00:01, 6110.38it/s]\n"
     ]
    }
   ],
   "source": [
    "eu_predict, word_dict = get_categorized_relsim_scores_eu(df, vocab, euclid)"
   ]
  },
  {
   "cell_type": "code",
   "execution_count": 21,
   "metadata": {},
   "outputs": [],
   "source": [
    "def get_category_coeffs(word_dict, pred_dict):\n",
    "    r_list = [0] * (len(word_dict)+1)\n",
    "\n",
    "    for key, val in word_dict.items():\n",
    "        # val = np.array(val)\n",
    "        # normalized_val = (val - 1) / 6 \n",
    "        pred = pred_dict[key]\n",
    "        # pred = np.exp(np.array(pred))\n",
    "        corr, pval = scipy.stats.pearsonr(val, pred)\n",
    "        r_list[key] = corr\n",
    "        \n",
    "    return r_list[1:]"
   ]
  },
  {
   "cell_type": "code",
   "execution_count": 29,
   "metadata": {},
   "outputs": [],
   "source": [
    "def get_all_preds(cos_dict, pred_dict):\n",
    "    all_cos_preds = []\n",
    "    all_my_preds = []\n",
    "    for key, val in cos_dict.items():\n",
    "        all_cos_preds += val\n",
    "        all_my_preds += pred_dict[key]\n",
    "        \n",
    "    return all_cos_preds, all_my_preds"
   ]
  },
  {
   "cell_type": "code",
   "execution_count": 37,
   "metadata": {},
   "outputs": [
    {
     "data": {
      "text/plain": [
       "(0.09898973312207526, 5.7965350232696985e-15)"
      ]
     },
     "execution_count": 37,
     "metadata": {},
     "output_type": "execute_result"
    }
   ],
   "source": [
    "all_cos, all_m2 = get_all_preds(word_dict, m2_pred_dict)\n",
    "scipy.stats.pearsonr(all_cos, all_m2)"
   ]
  },
  {
   "cell_type": "code",
   "execution_count": 22,
   "metadata": {},
   "outputs": [],
   "source": [
    "cos_corr = get_category_coeffs(word_dict, cos_pred)\n",
    "eu_corr = get_category_coeffs(word_dict, eu_predict)\n",
    "meta_corr = get_category_coeffs(word_dict, m2_pred_dict)"
   ]
  },
  {
   "cell_type": "code",
   "execution_count": 40,
   "metadata": {},
   "outputs": [
    {
     "data": {
      "image/png": "[encoded data removed]",
      "text/plain": [
       "<Figure size 360x288 with 1 Axes>"
      ]
     },
     "metadata": {
      "needs_background": "light"
     },
     "output_type": "display_data"
    }
   ],
   "source": [
    "N = 10\n",
    "\n",
    "fig, ax = plt.subplots(figsize=(5, 4))\n",
    "ind = np.arange(10)\n",
    "width = 0.25\n",
    "p1 = ax.bar(ind, cos_corr, width)\n",
    "# p2 = ax.bar(ind+width, eu_corr, width)\n",
    "p3 = ax.bar(ind+width, meta_corr, width)\n",
    "\n",
    "# ax.set_title(\"Pearson's $r$ by category\")\n",
    "ax.set_xlabel('Category')\n",
    "ax.set_xticks(ind + width / 2)\n",
    "ax.set_xticklabels((1, 2, 3, 4, 5, 6, 7, 8, 9, 10))\n",
    "ax.grid(axis='y')\n",
    "\n",
    "ax.legend((p1[0], p3[0]), ('Cosine similarity',\n",
    "                                 'MLL'))\n",
    "ax.set_ylabel(\"Pearson's $r$\")\n",
    "ax.autoscale_view()"
   ]
  },
  {
   "cell_type": "code",
   "execution_count": null,
   "metadata": {},
   "outputs": [],
   "source": [
    "m2_pred_dict[3][:10]"
   ]
  },
  {
   "cell_type": "code",
   "execution_count": null,
   "metadata": {},
   "outputs": [],
   "source": [
    "vals = np.array(word_dict[3][:10])\n",
    "(vals-1)/6"
   ]
  },
  {
   "cell_type": "code",
   "execution_count": null,
   "metadata": {},
   "outputs": [],
   "source": []
  }
 ],
 "metadata": {
  "kernelspec": {
   "display_name": "Python 3",
   "language": "python",
   "name": "python3"
  },
  "language_info": {
   "codemirror_mode": {
    "name": "ipython",
    "version": 3
   },
   "file_extension": ".py",
   "mimetype": "text/x-python",
   "name": "python",
   "nbconvert_exporter": "python",
   "pygments_lexer": "ipython3",
   "version": "3.7.7"
  }
 },
 "nbformat": 4,
 "nbformat_minor": 4
}
