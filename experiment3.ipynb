{
 "cells": [
  {
   "cell_type": "code",
   "execution_count": 1,
   "metadata": {},
   "outputs": [],
   "source": [
    "import pandas as pd\n",
    "import torch\n",
    "import torch.nn as nn\n",
    "import torch.optim as optim\n",
    "import torchtext\n",
    "import scipy.stats\n",
    "\n",
    "from tqdm import tqdm\n",
    "from collections import defaultdict\n",
    "from models import MLP1Base, MLP2Base, MetaMLPModel\n",
    "\n",
    "import matplotlib.pyplot as plt\n",
    "import numpy as np"
   ]
  },
  {
   "cell_type": "code",
   "execution_count": 16,
   "metadata": {},
   "outputs": [],
   "source": [
    "df = pd.read_csv('./parallelograms-revisited/experiment3_data_symmetry/mean_asymmetry_ratings.csv')"
   ]
  },
  {
   "cell_type": "code",
   "execution_count": 17,
   "metadata": {},
   "outputs": [
    {
     "data": {
      "text/html": [
       "<div>\n",
       "<style scoped>\n",
       "    .dataframe tbody tr th:only-of-type {\n",
       "        vertical-align: middle;\n",
       "    }\n",
       "\n",
       "    .dataframe tbody tr th {\n",
       "        vertical-align: top;\n",
       "    }\n",
       "\n",
       "    .dataframe thead th {\n",
       "        text-align: right;\n",
       "    }\n",
       "</style>\n",
       "<table border=\"1\" class=\"dataframe\">\n",
       "  <thead>\n",
       "    <tr style=\"text-align: right;\">\n",
       "      <th></th>\n",
       "      <th>relation1</th>\n",
       "      <th>relation2</th>\n",
       "      <th>comparison_type</th>\n",
       "      <th>pair1_word1</th>\n",
       "      <th>pair1_word2</th>\n",
       "      <th>pair2_word1</th>\n",
       "      <th>pair2_word2</th>\n",
       "      <th>forward_rating</th>\n",
       "      <th>forward_n</th>\n",
       "      <th>backward_rating</th>\n",
       "      <th>backward_n</th>\n",
       "    </tr>\n",
       "  </thead>\n",
       "  <tbody>\n",
       "    <tr>\n",
       "      <th>0</th>\n",
       "      <td>10a</td>\n",
       "      <td>10b</td>\n",
       "      <td>between-subtype</td>\n",
       "      <td>license</td>\n",
       "      <td>permission</td>\n",
       "      <td>yawn</td>\n",
       "      <td>boredom</td>\n",
       "      <td>3.760000</td>\n",
       "      <td>50</td>\n",
       "      <td>3.740000</td>\n",
       "      <td>50</td>\n",
       "    </tr>\n",
       "    <tr>\n",
       "      <th>1</th>\n",
       "      <td>8d</td>\n",
       "      <td>8e</td>\n",
       "      <td>between-subtype</td>\n",
       "      <td>breathe</td>\n",
       "      <td>live</td>\n",
       "      <td>athlete</td>\n",
       "      <td>medal</td>\n",
       "      <td>2.740000</td>\n",
       "      <td>50</td>\n",
       "      <td>2.764706</td>\n",
       "      <td>51</td>\n",
       "    </tr>\n",
       "    <tr>\n",
       "      <th>2</th>\n",
       "      <td>6e</td>\n",
       "      <td>6e</td>\n",
       "      <td>within-subtype</td>\n",
       "      <td>miser</td>\n",
       "      <td>splurge</td>\n",
       "      <td>miser</td>\n",
       "      <td>give</td>\n",
       "      <td>3.900000</td>\n",
       "      <td>50</td>\n",
       "      <td>3.980000</td>\n",
       "      <td>50</td>\n",
       "    </tr>\n",
       "    <tr>\n",
       "      <th>3</th>\n",
       "      <td>9h</td>\n",
       "      <td>9i</td>\n",
       "      <td>between-subtype</td>\n",
       "      <td>arrest</td>\n",
       "      <td>trial</td>\n",
       "      <td>foot</td>\n",
       "      <td>shoe</td>\n",
       "      <td>3.240000</td>\n",
       "      <td>50</td>\n",
       "      <td>2.745098</td>\n",
       "      <td>51</td>\n",
       "    </tr>\n",
       "    <tr>\n",
       "      <th>4</th>\n",
       "      <td>9a</td>\n",
       "      <td>9a</td>\n",
       "      <td>within-subtype</td>\n",
       "      <td>farm</td>\n",
       "      <td>tractor</td>\n",
       "      <td>bakery</td>\n",
       "      <td>cake</td>\n",
       "      <td>4.780000</td>\n",
       "      <td>50</td>\n",
       "      <td>4.470588</td>\n",
       "      <td>51</td>\n",
       "    </tr>\n",
       "    <tr>\n",
       "      <th>...</th>\n",
       "      <td>...</td>\n",
       "      <td>...</td>\n",
       "      <td>...</td>\n",
       "      <td>...</td>\n",
       "      <td>...</td>\n",
       "      <td>...</td>\n",
       "      <td>...</td>\n",
       "      <td>...</td>\n",
       "      <td>...</td>\n",
       "      <td>...</td>\n",
       "      <td>...</td>\n",
       "    </tr>\n",
       "    <tr>\n",
       "      <th>495</th>\n",
       "      <td>9h</td>\n",
       "      <td>1a</td>\n",
       "      <td>between-type</td>\n",
       "      <td>narrative</td>\n",
       "      <td>epilogue</td>\n",
       "      <td>animal</td>\n",
       "      <td>pig</td>\n",
       "      <td>2.800000</td>\n",
       "      <td>50</td>\n",
       "      <td>3.840000</td>\n",
       "      <td>50</td>\n",
       "    </tr>\n",
       "    <tr>\n",
       "      <th>496</th>\n",
       "      <td>2a</td>\n",
       "      <td>2b</td>\n",
       "      <td>between-subtype</td>\n",
       "      <td>bird</td>\n",
       "      <td>wings</td>\n",
       "      <td>pack</td>\n",
       "      <td>wolf</td>\n",
       "      <td>2.940000</td>\n",
       "      <td>50</td>\n",
       "      <td>2.080000</td>\n",
       "      <td>50</td>\n",
       "    </tr>\n",
       "    <tr>\n",
       "      <th>497</th>\n",
       "      <td>7h</td>\n",
       "      <td>7h</td>\n",
       "      <td>within-subtype</td>\n",
       "      <td>conductor</td>\n",
       "      <td>baton</td>\n",
       "      <td>queen</td>\n",
       "      <td>throne</td>\n",
       "      <td>4.880000</td>\n",
       "      <td>50</td>\n",
       "      <td>4.700000</td>\n",
       "      <td>50</td>\n",
       "    </tr>\n",
       "    <tr>\n",
       "      <th>498</th>\n",
       "      <td>1e</td>\n",
       "      <td>1c</td>\n",
       "      <td>between-subtype</td>\n",
       "      <td>lake</td>\n",
       "      <td>Erie</td>\n",
       "      <td>fish</td>\n",
       "      <td>trout</td>\n",
       "      <td>5.686275</td>\n",
       "      <td>51</td>\n",
       "      <td>6.137255</td>\n",
       "      <td>51</td>\n",
       "    </tr>\n",
       "    <tr>\n",
       "      <th>499</th>\n",
       "      <td>4h</td>\n",
       "      <td>4h</td>\n",
       "      <td>within-subtype</td>\n",
       "      <td>pimple</td>\n",
       "      <td>skin</td>\n",
       "      <td>gap</td>\n",
       "      <td>teeth</td>\n",
       "      <td>5.235294</td>\n",
       "      <td>51</td>\n",
       "      <td>5.740000</td>\n",
       "      <td>50</td>\n",
       "    </tr>\n",
       "  </tbody>\n",
       "</table>\n",
       "<p>500 rows × 11 columns</p>\n",
       "</div>"
      ],
      "text/plain": [
       "    relation1 relation2  comparison_type pair1_word1 pair1_word2 pair2_word1  \\\n",
       "0         10a       10b  between-subtype     license  permission        yawn   \n",
       "1          8d        8e  between-subtype     breathe        live     athlete   \n",
       "2          6e        6e   within-subtype       miser     splurge       miser   \n",
       "3          9h        9i  between-subtype      arrest       trial        foot   \n",
       "4          9a        9a   within-subtype        farm     tractor      bakery   \n",
       "..        ...       ...              ...         ...         ...         ...   \n",
       "495        9h        1a     between-type   narrative    epilogue      animal   \n",
       "496        2a        2b  between-subtype        bird       wings        pack   \n",
       "497        7h        7h   within-subtype   conductor       baton       queen   \n",
       "498        1e        1c  between-subtype        lake        Erie        fish   \n",
       "499        4h        4h   within-subtype      pimple        skin         gap   \n",
       "\n",
       "    pair2_word2  forward_rating  forward_n  backward_rating  backward_n  \n",
       "0       boredom        3.760000         50         3.740000          50  \n",
       "1         medal        2.740000         50         2.764706          51  \n",
       "2          give        3.900000         50         3.980000          50  \n",
       "3          shoe        3.240000         50         2.745098          51  \n",
       "4          cake        4.780000         50         4.470588          51  \n",
       "..          ...             ...        ...              ...         ...  \n",
       "495         pig        2.800000         50         3.840000          50  \n",
       "496        wolf        2.940000         50         2.080000          50  \n",
       "497      throne        4.880000         50         4.700000          50  \n",
       "498       trout        5.686275         51         6.137255          51  \n",
       "499       teeth        5.235294         51         5.740000          50  \n",
       "\n",
       "[500 rows x 11 columns]"
      ]
     },
     "execution_count": 17,
     "metadata": {},
     "output_type": "execute_result"
    }
   ],
   "source": [
    "df"
   ]
  },
  {
   "cell_type": "code",
   "execution_count": 2,
   "metadata": {},
   "outputs": [],
   "source": [
    "vocab = torchtext.vocab.GloVe(name='840B', dim=300)"
   ]
  },
  {
   "cell_type": "code",
   "execution_count": 3,
   "metadata": {},
   "outputs": [],
   "source": [
    "meta_mlp2_params = torch.load('./models/meta_mlp2.pt', map_location=torch.device('cpu'))"
   ]
  },
  {
   "cell_type": "code",
   "execution_count": 4,
   "metadata": {},
   "outputs": [],
   "source": [
    "meta_mlp2 = MLP2Base(input_dim=300, hidden_dim=500, output_dim=300)"
   ]
  },
  {
   "cell_type": "code",
   "execution_count": 5,
   "metadata": {},
   "outputs": [],
   "source": [
    "meta_mlp2.l1.weight.data = meta_mlp2_params['features.layer1.linear.weight']\n",
    "meta_mlp2.l1.bias.data = meta_mlp2_params['features.layer1.linear.bias']\n",
    "meta_mlp2.l2.weight.data = meta_mlp2_params['features.layer2.linear.weight']\n",
    "meta_mlp2.l2.bias.data = meta_mlp2_params['features.layer2.linear.bias']\n",
    "meta_mlp2.l3.weight.data = meta_mlp2_params['classifier.weight']\n",
    "meta_mlp2.l3.bias.data = meta_mlp2_params['classifier.bias']"
   ]
  },
  {
   "cell_type": "code",
   "execution_count": 6,
   "metadata": {},
   "outputs": [],
   "source": [
    "mm2opt = optim.SGD(meta_mlp2.parameters(), lr=0.1)\n",
    "\n",
    "mm2cache = meta_mlp2.state_dict()\n",
    "\n",
    "criterion = nn.MSELoss()\n",
    "\n",
    "def get_m2_loss(a, b, c, d):\n",
    "    meta_mlp2.load_state_dict(mm2cache)\n",
    "    mm2opt.zero_grad()\n",
    "    a_hat = meta_mlp2(a)\n",
    "    loss = criterion(a_hat, b)\n",
    "    loss.backward()\n",
    "    mm2opt.step()\n",
    "    c_hat = meta_mlp2(c)\n",
    "    loss = criterion(c_hat, d)\n",
    "    return loss.detach().numpy()"
   ]
  },
  {
   "cell_type": "code",
   "execution_count": 7,
   "metadata": {},
   "outputs": [],
   "source": [
    "angry = vocab['angry']\n",
    "smile = vocab['smile']\n",
    "exhausted = vocab['exhausted']\n",
    "run = vocab['run']"
   ]
  },
  {
   "cell_type": "code",
   "execution_count": 13,
   "metadata": {},
   "outputs": [
    {
     "name": "stdout",
     "output_type": "stream",
     "text": [
      "0.9681684\n",
      "0.9442329\n"
     ]
    }
   ],
   "source": [
    "print(np.exp(-get_m2_loss(angry, smile, exhausted, run)))\n",
    "print(np.exp(-get_m2_loss(exhausted, run, angry, smile)))"
   ]
  },
  {
   "cell_type": "code",
   "execution_count": 12,
   "metadata": {},
   "outputs": [
    {
     "data": {
      "text/plain": [
       "<torch._C.Generator at 0x7f210f43b750>"
      ]
     },
     "execution_count": 12,
     "metadata": {},
     "output_type": "execute_result"
    }
   ],
   "source": [
    "torch.manual_seed(42)"
   ]
  },
  {
   "cell_type": "code",
   "execution_count": 14,
   "metadata": {},
   "outputs": [],
   "source": [
    "def get_categorized_relsim_scores(df, vocab, get_loss):\n",
    "    forward_dict = defaultdict(lambda: [])\n",
    "    backward_dict = defaultdict(lambda: [])\n",
    "    human_forward = defaultdict(lambda: [])\n",
    "    human_backward = defaultdict(lambda: [])\n",
    "    \n",
    "    for idx, row in tqdm(df.iterrows()):\n",
    "        w1, w2, w3, w4 = row['pair1_word1'], row['pair1_word2'], row['pair2_word1'], row['pair2_word2']\n",
    "\n",
    "        if w1 not in vocab.stoi or w2 not in vocab.stoi or w3 not in vocab.stoi or w4 not in vocab.stoi:\n",
    "            continue\n",
    "            \n",
    "        category_id = int(row['relation1'][:-1])\n",
    "        \n",
    "        forward_score = row['forward_rating']\n",
    "        human_forward[category_id].append(forward_score)\n",
    "        \n",
    "        backward_score = row['backward_rating']\n",
    "        human_backward[category_id].append(backward_score)\n",
    "            \n",
    "        a = vocab[w1]\n",
    "        b = vocab[w2]\n",
    "        c = vocab[w3]\n",
    "        d = vocab[w4]\n",
    "        \n",
    "        forward = get_loss(a, b, c, d)\n",
    "        backward = get_loss(c, d, a, b)\n",
    "\n",
    "        forward_dict[category_id].append(np.exp(-forward))\n",
    "        backward_dict[category_id].append(np.exp(-backward))\n",
    "        \n",
    "    return forward_dict, backward_dict, human_forward, human_backward"
   ]
  },
  {
   "cell_type": "code",
   "execution_count": 18,
   "metadata": {},
   "outputs": [
    {
     "name": "stderr",
     "output_type": "stream",
     "text": [
      "500it [00:04, 113.27it/s]\n"
     ]
    }
   ],
   "source": [
    "forward_dict, backward_dict, human_forward, human_backward = get_categorized_relsim_scores(df, vocab, get_m2_loss)"
   ]
  },
  {
   "cell_type": "code",
   "execution_count": 20,
   "metadata": {},
   "outputs": [],
   "source": [
    "def get_category_coeffs(word_dict, pred_dict):\n",
    "    r_list = [0] * (len(word_dict)+1)\n",
    "\n",
    "    for key, val in word_dict.items():\n",
    "        pred = pred_dict[key]\n",
    "        # pred = np.exp(np.array(pred))\n",
    "        corr, pval = scipy.stats.pearsonr(val, pred)\n",
    "        r_list[key] = corr\n",
    "        \n",
    "    return r_list[1:]"
   ]
  },
  {
   "cell_type": "code",
   "execution_count": 21,
   "metadata": {},
   "outputs": [],
   "source": [
    "forward_corr = get_category_coeffs(human_forward, forward_dict)\n",
    "backward_corr = get_category_coeffs(human_backward, backward_dict)"
   ]
  },
  {
   "cell_type": "code",
   "execution_count": 25,
   "metadata": {
    "scrolled": true
   },
   "outputs": [
    {
     "data": {
      "image/png": "[encoded data removed]",
      "text/plain": [
       "<Figure size 360x288 with 1 Axes>"
      ]
     },
     "metadata": {
      "needs_background": "light"
     },
     "output_type": "display_data"
    }
   ],
   "source": [
    "N = 10\n",
    "\n",
    "fig, ax = plt.subplots(figsize=(5, 4))\n",
    "ind = np.arange(10)\n",
    "width = 0.35\n",
    "p1 = ax.bar(ind, forward_corr, width)\n",
    "p2 = ax.bar(ind+width, backward_corr, width)\n",
    "\n",
    "# ax.set_title(\"Pearson's $r$ by category\")\n",
    "ax.set_xlabel('Category')\n",
    "ax.set_xticks(ind + width / 2)\n",
    "ax.set_xticklabels((1, 2, 3, 4, 5, 6, 7, 8, 9, 10))\n",
    "ax.grid(axis='y')\n",
    "\n",
    "ax.legend((p1[0], p2[0]), ('forward MLL', 'backward MLL'))\n",
    "ax.set_ylabel(\"Pearson's $r$\")\n",
    "# ax.set_ylim(bottom=-0.4, top=0.6)\n",
    "ax.autoscale_view()"
   ]
  },
  {
   "cell_type": "code",
   "execution_count": 44,
   "metadata": {},
   "outputs": [],
   "source": [
    "def get_max(forward_dict):\n",
    "    tmp = []\n",
    "    for key, val in forward_dict.items():\n",
    "        max = np.max(val)\n",
    "        tmp.append(max)\n",
    "    return np.max(tmp)"
   ]
  },
  {
   "cell_type": "code",
   "execution_count": 45,
   "metadata": {},
   "outputs": [],
   "source": [
    "forward_max = get_max(forward_dict)\n",
    "backward_max = get_max(backward_dict)"
   ]
  },
  {
   "cell_type": "code",
   "execution_count": 46,
   "metadata": {},
   "outputs": [
    {
     "name": "stdout",
     "output_type": "stream",
     "text": [
      "1.619275 1.3829886\n"
     ]
    }
   ],
   "source": [
    "print(forward_max, backward_max)"
   ]
  },
  {
   "cell_type": "code",
   "execution_count": 47,
   "metadata": {},
   "outputs": [],
   "source": [
    "def get_converted_category_coeffs(word_dict, pred_dict):\n",
    "    r_list = [0] * (len(word_dict)+1)\n",
    "\n",
    "    for key, val in word_dict.items():\n",
    "        pred = pred_dict[key]\n",
    "        pred = np.array(pred)\n",
    "        pred = pred / 1.62 * 6 + 1\n",
    "        corr, pval = scipy.stats.pearsonr(val, pred)\n",
    "        r_list[key] = corr\n",
    "        \n",
    "    return r_list[1:]"
   ]
  },
  {
   "cell_type": "code",
   "execution_count": 50,
   "metadata": {},
   "outputs": [],
   "source": [
    "c_forward_corr = get_converted_category_coeffs(forward_dict, human_forward)\n",
    "c_backward_corr = get_converted_category_coeffs(backward_dict, human_backward)"
   ]
  },
  {
   "cell_type": "code",
   "execution_count": 51,
   "metadata": {},
   "outputs": [
    {
     "data": {
      "image/png": "[encoded data removed]",
      "text/plain": [
       "<Figure size 1152x576 with 1 Axes>"
      ]
     },
     "metadata": {
      "needs_background": "light"
     },
     "output_type": "display_data"
    }
   ],
   "source": [
    "N = 10\n",
    "\n",
    "fig, ax = plt.subplots(figsize=(16, 8))\n",
    "ind = np.arange(10)\n",
    "width = 0.35\n",
    "p1 = ax.bar(ind, c_forward_corr, width)\n",
    "p2 = ax.bar(ind+width, c_backward_corr, width)\n",
    "\n",
    "# ax.set_title(\"Pearson's $r$ by category\")\n",
    "ax.set_xlabel('Category')\n",
    "ax.set_xticks(ind + width / 2)\n",
    "ax.set_xticklabels((1, 2, 3, 4, 5, 6, 7, 8, 9, 10))\n",
    "ax.grid(axis='y')\n",
    "\n",
    "ax.legend((p1[0], p2[0]), ('Forward similarity', 'Backward similarity'))\n",
    "ax.set_ylabel(\"Pearson's $r$\")\n",
    "\n",
    "ax.autoscale_view()"
   ]
  },
  {
   "cell_type": "code",
   "execution_count": null,
   "metadata": {},
   "outputs": [],
   "source": []
  }
 ],
 "metadata": {
  "kernelspec": {
   "display_name": "Python 3",
   "language": "python",
   "name": "python3"
  },
  "language_info": {
   "codemirror_mode": {
    "name": "ipython",
    "version": 3
   },
   "file_extension": ".py",
   "mimetype": "text/x-python",
   "name": "python",
   "nbconvert_exporter": "python",
   "pygments_lexer": "ipython3",
   "version": "3.7.7"
  }
 },
 "nbformat": 4,
 "nbformat_minor": 4
}
