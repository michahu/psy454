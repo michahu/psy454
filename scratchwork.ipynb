{
 "cells": [
  {
   "cell_type": "code",
   "execution_count": 1,
   "metadata": {},
   "outputs": [],
   "source": [
    "import torchtext\n",
    "import pandas as pd\n",
    "import numpy as np\n",
    "import sklearn.metrics\n",
    "from collections import defaultdict\n",
    "from tqdm import tqdm"
   ]
  },
  {
   "cell_type": "code",
   "execution_count": 2,
   "metadata": {},
   "outputs": [],
   "source": [
    "df=pd.read_csv('./parallelograms-revisited/experiment1_data_completions/experiment1a_counts.csv')"
   ]
  },
  {
   "cell_type": "code",
   "execution_count": 3,
   "metadata": {},
   "outputs": [],
   "source": [
    "df=df.drop(columns=['prompt'])"
   ]
  },
  {
   "cell_type": "code",
   "execution_count": 4,
   "metadata": {},
   "outputs": [],
   "source": [
    "vocab = torchtext.vocab.GloVe(name='840B', dim=300)"
   ]
  },
  {
   "cell_type": "code",
   "execution_count": 10,
   "metadata": {},
   "outputs": [],
   "source": [
    "def get_ranks(df, cd_ranks, p_ranks):\n",
    "    for idx, row in tqdm(df.iterrows()):\n",
    "    # for idx, row in df.iterrows():\n",
    "        w1, w2, w3 = row['prompt_w1'], row['prompt_w2'], row['prompt_w3']\n",
    "        # print(w1, w2, w3)\n",
    "\n",
    "        if w1 not in vocab.stoi or w2 not in vocab.stoi or w3 not in vocab.stoi:\n",
    "            print(w1, w2, w3)\n",
    "            continue\n",
    "            \n",
    "        a = vocab[w1]\n",
    "        b = vocab[w2]\n",
    "        c = vocab[w3]\n",
    "        \n",
    "        row.pop('prompt_w1')\n",
    "        row.pop('prompt_w2')\n",
    "        row.pop('prompt_w3')\n",
    "        \n",
    "        # print('popped')\n",
    "\n",
    "        cd_sim = sklearn.metrics.pairwise.cosine_similarity(c.reshape(1, -1), vocab.vectors)\n",
    "        cd_sorted_indices = (-cd_sim).argsort()[0]\n",
    "        cd_stoi = dict(zip(vocab.itos, cd_sorted_indices))\n",
    "\n",
    "        d = b - a + c \n",
    "        p_sim = sklearn.metrics.pairwise.cosine_similarity(d.reshape(1, -1), vocab.vectors)\n",
    "        p_sorted_indices = (-p_sim).argsort()[0]\n",
    "        p_stoi = dict(zip(vocab.itos, p_sorted_indices))\n",
    "        \n",
    "        # print('constructed stoi')\n",
    "        \n",
    "        for key, value in row.items():\n",
    "            if key not in cd_stoi:\n",
    "                continue\n",
    "            cd_idx = cd_stoi[key]\n",
    "            cd_ranks[cd_idx] += value\n",
    "\n",
    "            p_idx = p_stoi[key]\n",
    "            p_ranks[p_idx] += value"
   ]
  },
  {
   "cell_type": "code",
   "execution_count": null,
   "metadata": {},
   "outputs": [
    {
     "name": "stderr",
     "output_type": "stream",
     "text": [
      "25it [04:06,  9.87s/it]"
     ]
    },
    {
     "name": "stdout",
     "output_type": "stream",
     "text": [
      "lamb chop lamb chapter\n"
     ]
    },
    {
     "name": "stderr",
     "output_type": "stream",
     "text": [
      "31it [04:56,  9.51s/it]"
     ]
    },
    {
     "name": "stdout",
     "output_type": "stream",
     "text": [
      "launchpad helicopter diving board\n"
     ]
    },
    {
     "name": "stderr",
     "output_type": "stream",
     "text": [
      "34it [05:15,  8.65s/it]"
     ]
    },
    {
     "name": "stdout",
     "output_type": "stream",
     "text": [
      "basketball hoop soccer ball\n"
     ]
    },
    {
     "name": "stderr",
     "output_type": "stream",
     "text": [
      "\r",
      "36it [05:25,  7.54s/it]"
     ]
    },
    {
     "name": "stdout",
     "output_type": "stream",
     "text": [
      "law school lawyer medical school\n"
     ]
    },
    {
     "name": "stderr",
     "output_type": "stream",
     "text": [
      "43it [06:24,  9.34s/it]"
     ]
    },
    {
     "name": "stdout",
     "output_type": "stream",
     "text": [
      "basket picnic lunch box\n"
     ]
    },
    {
     "name": "stderr",
     "output_type": "stream",
     "text": [
      "\r",
      "45it [06:34,  8.03s/it]"
     ]
    },
    {
     "name": "stdout",
     "output_type": "stream",
     "text": [
      "furnace coal wood stove\n"
     ]
    },
    {
     "name": "stderr",
     "output_type": "stream",
     "text": [
      "55it [08:04,  9.77s/it]"
     ]
    }
   ],
   "source": [
    "cd_ranks = np.zeros(len(vocab.itos))\n",
    "p_ranks = np.zeros(len(vocab.itos))\n",
    "get_ranks(df, cd_ranks, p_ranks)"
   ]
  },
  {
   "cell_type": "code",
   "execution_count": null,
   "metadata": {},
   "outputs": [],
   "source": [
    "cd_cumsum = np.cumsum(cd_ranks)\n",
    "p_cumsum = np.cumsum(p_ranks)"
   ]
  },
  {
   "cell_type": "code",
   "execution_count": null,
   "metadata": {},
   "outputs": [],
   "source": [
    "cd_cumsum, p_cumsum"
   ]
  },
  {
   "cell_type": "code",
   "execution_count": null,
   "metadata": {},
   "outputs": [],
   "source": []
  }
 ],
 "metadata": {
  "kernelspec": {
   "display_name": "Python 3",
   "language": "python",
   "name": "python3"
  },
  "language_info": {
   "codemirror_mode": {
    "name": "ipython",
    "version": 3
   },
   "file_extension": ".py",
   "mimetype": "text/x-python",
   "name": "python",
   "nbconvert_exporter": "python",
   "pygments_lexer": "ipython3",
   "version": "3.7.7"
  }
 },
 "nbformat": 4,
 "nbformat_minor": 4
}
