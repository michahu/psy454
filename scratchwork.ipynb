{
 "cells": [
  {
   "cell_type": "code",
   "execution_count": 1,
   "metadata": {},
   "outputs": [],
   "source": [
    "import torchtext\n",
    "import pandas as pd\n",
    "import numpy as np\n",
    "import sklearn.metrics\n",
    "from collections import defaultdict\n",
    "from tqdm import tqdm"
   ]
  },
  {
   "cell_type": "code",
   "execution_count": 2,
   "metadata": {},
   "outputs": [],
   "source": [
    "df=pd.read_csv('./parallelograms-revisited/experiment1_data_completions/experiment1a_counts.csv')"
   ]
  },
  {
   "cell_type": "code",
   "execution_count": 3,
   "metadata": {},
   "outputs": [],
   "source": [
    "df=df.drop(columns=['prompt'])"
   ]
  },
  {
   "cell_type": "code",
   "execution_count": 54,
   "metadata": {},
   "outputs": [
    {
     "name": "stderr",
     "output_type": "stream",
     "text": [
      ".vector_cache/glove.42B.300d.zip: 1.88GB [15:00, 2.08MB/s]                               \n",
      "100%|█████████▉| 1917493/1917494 [02:46<00:00, 11528.54it/s]\n"
     ]
    }
   ],
   "source": [
    "vocab = torchtext.vocab.GloVe(name='42B', dim=300)"
   ]
  },
  {
   "cell_type": "code",
   "execution_count": 10,
   "metadata": {},
   "outputs": [],
   "source": [
    "def get_ranks(df, cd_ranks, p_ranks):\n",
    "    for idx, row in tqdm(df.iterrows()):\n",
    "    # for idx, row in df.iterrows():\n",
    "        w1, w2, w3 = row['prompt_w1'], row['prompt_w2'], row['prompt_w3']\n",
    "        # print(w1, w2, w3)\n",
    "\n",
    "        if w1 not in vocab.stoi or w2 not in vocab.stoi or w3 not in vocab.stoi:\n",
    "            print(w1, w2, w3)\n",
    "            continue\n",
    "            \n",
    "        a = vocab[w1]\n",
    "        b = vocab[w2]\n",
    "        c = vocab[w3]\n",
    "        \n",
    "        row.pop('prompt_w1')\n",
    "        row.pop('prompt_w2')\n",
    "        row.pop('prompt_w3')\n",
    "        \n",
    "        # print('popped')\n",
    "\n",
    "        cd_sim = sklearn.metrics.pairwise.cosine_similarity(c.reshape(1, -1), vocab.vectors)\n",
    "        cd_sorted_indices = (-cd_sim).argsort()[0]\n",
    "        cd_stoi = dict(zip(vocab.itos, cd_sorted_indices))\n",
    "\n",
    "        d = b - a + c \n",
    "        p_sim = sklearn.metrics.pairwise.cosine_similarity(d.reshape(1, -1), vocab.vectors)\n",
    "        p_sorted_indices = (-p_sim).argsort()[0]\n",
    "        p_stoi = dict(zip(vocab.itos, p_sorted_indices))\n",
    "        \n",
    "        # print('constructed stoi')\n",
    "        \n",
    "        for key, value in row.items():\n",
    "            if key not in cd_stoi:\n",
    "                continue\n",
    "            cd_idx = cd_stoi[key]\n",
    "            cd_ranks[cd_idx] += value\n",
    "\n",
    "            p_idx = p_stoi[key]\n",
    "            p_ranks[p_idx] += value"
   ]
  },
  {
   "cell_type": "code",
   "execution_count": 11,
   "metadata": {},
   "outputs": [
    {
     "name": "stderr",
     "output_type": "stream",
     "text": [
      "25it [04:06,  9.87s/it]"
     ]
    },
    {
     "name": "stdout",
     "output_type": "stream",
     "text": [
      "lamb chop lamb chapter\n"
     ]
    },
    {
     "name": "stderr",
     "output_type": "stream",
     "text": [
      "31it [04:56,  9.51s/it]"
     ]
    },
    {
     "name": "stdout",
     "output_type": "stream",
     "text": [
      "launchpad helicopter diving board\n"
     ]
    },
    {
     "name": "stderr",
     "output_type": "stream",
     "text": [
      "34it [05:15,  8.65s/it]"
     ]
    },
    {
     "name": "stdout",
     "output_type": "stream",
     "text": [
      "basketball hoop soccer ball\n"
     ]
    },
    {
     "name": "stderr",
     "output_type": "stream",
     "text": [
      "\r",
      "36it [05:25,  7.54s/it]"
     ]
    },
    {
     "name": "stdout",
     "output_type": "stream",
     "text": [
      "law school lawyer medical school\n"
     ]
    },
    {
     "name": "stderr",
     "output_type": "stream",
     "text": [
      "43it [06:24,  9.34s/it]"
     ]
    },
    {
     "name": "stdout",
     "output_type": "stream",
     "text": [
      "basket picnic lunch box\n"
     ]
    },
    {
     "name": "stderr",
     "output_type": "stream",
     "text": [
      "\r",
      "45it [06:34,  8.03s/it]"
     ]
    },
    {
     "name": "stdout",
     "output_type": "stream",
     "text": [
      "furnace coal wood stove\n"
     ]
    },
    {
     "name": "stderr",
     "output_type": "stream",
     "text": [
      "61it [09:03,  9.88s/it]"
     ]
    },
    {
     "name": "stdout",
     "output_type": "stream",
     "text": [
      "movie screen game show\n"
     ]
    },
    {
     "name": "stderr",
     "output_type": "stream",
     "text": [
      "65it [09:33,  9.18s/it]"
     ]
    },
    {
     "name": "stdout",
     "output_type": "stream",
     "text": [
      "lamb chop lamb pork chop\n"
     ]
    },
    {
     "name": "stderr",
     "output_type": "stream",
     "text": [
      "71it [10:22,  9.42s/it]"
     ]
    },
    {
     "name": "stdout",
     "output_type": "stream",
     "text": [
      "flock goose wolf pack\n"
     ]
    },
    {
     "name": "stderr",
     "output_type": "stream",
     "text": [
      "78it [11:22,  9.66s/it]"
     ]
    },
    {
     "name": "stdout",
     "output_type": "stream",
     "text": [
      "law school lawyer vineyard\n"
     ]
    },
    {
     "name": "stderr",
     "output_type": "stream",
     "text": [
      "80it [11:32,  8.66s/it]\n"
     ]
    }
   ],
   "source": [
    "cd_ranks = np.zeros(len(vocab.itos))\n",
    "p_ranks = np.zeros(len(vocab.itos))\n",
    "get_ranks(df, cd_ranks, p_ranks)"
   ]
  },
  {
   "cell_type": "code",
   "execution_count": 12,
   "metadata": {},
   "outputs": [],
   "source": [
    "cd_cumsum = np.cumsum(cd_ranks)\n",
    "p_cumsum = np.cumsum(p_ranks)"
   ]
  },
  {
   "cell_type": "code",
   "execution_count": 13,
   "metadata": {},
   "outputs": [
    {
     "data": {
      "text/plain": [
       "(array([   0.,    0.,    0., ..., 2089., 2089., 2089.]),\n",
       " array([   0.,    0.,    0., ..., 2089., 2089., 2089.]))"
      ]
     },
     "execution_count": 13,
     "metadata": {},
     "output_type": "execute_result"
    }
   ],
   "source": [
    "cd_cumsum, p_cumsum"
   ]
  },
  {
   "cell_type": "code",
   "execution_count": 18,
   "metadata": {},
   "outputs": [],
   "source": [
    "pcts = np.arange(len(cd_cumsum)) / len(cd_cumsum) * 100"
   ]
  },
  {
   "cell_type": "code",
   "execution_count": 15,
   "metadata": {},
   "outputs": [],
   "source": [
    "cd_cumsum_pct = cd_cumsum / cd_cumsum[-1]\n",
    "p_cumsum_pct = p_cumsum / p_cumsum[-1]\n"
   ]
  },
  {
   "cell_type": "code",
   "execution_count": 16,
   "metadata": {},
   "outputs": [],
   "source": [
    "import matplotlib.pyplot as plt"
   ]
  },
  {
   "cell_type": "code",
   "execution_count": 22,
   "metadata": {},
   "outputs": [
    {
     "data": {
      "image/png": "[encoded data removed]",
      "text/plain": [
       "<Figure size 432x288 with 1 Axes>"
      ]
     },
     "metadata": {
      "needs_background": "light"
     },
     "output_type": "display_data"
    }
   ],
   "source": [
    "fig, ax = plt.subplots()\n",
    "ax.plot(pcts, cd_cumsum_pct, label='cd')\n",
    "ax.plot(pcts, p_cumsum_pct, label='parallelogram')\n",
    "\n",
    "ax.set_xscale('log')\n",
    "ax.set_xlim((1e-1, 1e2))\n",
    "ax.legend()\n",
    "ax.grid()"
   ]
  },
  {
   "cell_type": "code",
   "execution_count": 25,
   "metadata": {},
   "outputs": [],
   "source": [
    "queen = vocab['woman'] - vocab['man'] + vocab['king']\n",
    "cd_sim = sklearn.metrics.pairwise.cosine_similarity(queen.reshape(1, -1), vocab.vectors)\n",
    "cd_sorted_indices = (-cd_sim).argsort()[0]\n",
    "cd_stoi = dict(zip(vocab.itos, cd_sorted_indices))"
   ]
  },
  {
   "cell_type": "code",
   "execution_count": 26,
   "metadata": {},
   "outputs": [
    {
     "data": {
      "text/plain": [
       "90950"
      ]
     },
     "execution_count": 26,
     "metadata": {},
     "output_type": "execute_result"
    }
   ],
   "source": [
    "cd_stoi['queen']"
   ]
  },
  {
   "cell_type": "code",
   "execution_count": 35,
   "metadata": {},
   "outputs": [
    {
     "data": {
      "text/plain": [
       "torch.Size([300])"
      ]
     },
     "execution_count": 35,
     "metadata": {},
     "output_type": "execute_result"
    }
   ],
   "source": [
    "queen.shape"
   ]
  },
  {
   "cell_type": "code",
   "execution_count": 38,
   "metadata": {},
   "outputs": [
    {
     "data": {
      "text/plain": [
       "torch.Size([300])"
      ]
     },
     "execution_count": 38,
     "metadata": {},
     "output_type": "execute_result"
    }
   ],
   "source": [
    "vocab['king'].shape"
   ]
  },
  {
   "cell_type": "code",
   "execution_count": 48,
   "metadata": {},
   "outputs": [],
   "source": [
    "queen = vocab['woman']  + vocab['king'] - vocab['man']"
   ]
  },
  {
   "cell_type": "code",
   "execution_count": 50,
   "metadata": {},
   "outputs": [
    {
     "data": {
      "text/plain": [
       "array([[1.]], dtype=float32)"
      ]
     },
     "execution_count": 50,
     "metadata": {},
     "output_type": "execute_result"
    }
   ],
   "source": [
    "sklearn.metrics.pairwise.cosine_similarity(queen.reshape(1, -1), queen.reshape(1, -1))"
   ]
  },
  {
   "cell_type": "code",
   "execution_count": 52,
   "metadata": {},
   "outputs": [
    {
     "data": {
      "text/plain": [
       "array([[0.78808445]], dtype=float32)"
      ]
     },
     "execution_count": 52,
     "metadata": {},
     "output_type": "execute_result"
    }
   ],
   "source": [
    "sklearn.metrics.pairwise.cosine_similarity(queen.reshape(1, -1), vocab['queen'].reshape(1, -1))"
   ]
  },
  {
   "cell_type": "code",
   "execution_count": 53,
   "metadata": {},
   "outputs": [
    {
     "data": {
      "text/plain": [
       "array([[0.80242586]], dtype=float32)"
      ]
     },
     "execution_count": 53,
     "metadata": {},
     "output_type": "execute_result"
    }
   ],
   "source": [
    "sklearn.metrics.pairwise.cosine_similarity(queen.reshape(1, -1), vocab['king'].reshape(1, -1))"
   ]
  },
  {
   "cell_type": "code",
   "execution_count": null,
   "metadata": {},
   "outputs": [],
   "source": []
  }
 ],
 "metadata": {
  "kernelspec": {
   "display_name": "Python 3",
   "language": "python",
   "name": "python3"
  },
  "language_info": {
   "codemirror_mode": {
    "name": "ipython",
    "version": 3
   },
   "file_extension": ".py",
   "mimetype": "text/x-python",
   "name": "python",
   "nbconvert_exporter": "python",
   "pygments_lexer": "ipython3",
   "version": "3.7.7"
  }
 },
 "nbformat": 4,
 "nbformat_minor": 4
}
